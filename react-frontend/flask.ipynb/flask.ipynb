{
 "cells": [
  {
   "cell_type": "code",
   "execution_count": 4,
   "metadata": {},
   "outputs": [
    {
     "name": "stdout",
     "output_type": "stream",
     "text": [
      " * Serving Flask app '__main__'\n",
      " * Debug mode: on\n"
     ]
    },
    {
     "name": "stderr",
     "output_type": "stream",
     "text": [
      "WARNING: This is a development server. Do not use it in a production deployment. Use a production WSGI server instead.\n",
      " * Running on http://127.0.0.1:5000\n",
      "Press CTRL+C to quit\n",
      " * Restarting with watchdog (windowsapi)\n"
     ]
    },
    {
     "ename": "SystemExit",
     "evalue": "1",
     "output_type": "error",
     "traceback": [
      "An exception has occurred, use %tb to see the full traceback.\n",
      "\u001b[1;31mSystemExit\u001b[0m\u001b[1;31m:\u001b[0m 1\n"
     ]
    }
   ],
   "source": [
    "from flask import Flask, request, jsonify\n",
    "from flask_cors import CORS\n",
    "import pickle\n",
    "\n",
    "# Load the trained model\n",
    "with open(\"xgboost_model.pkl2\", \"rb\") as f:\n",
    "    model = pickle.load(f)\n",
    "\n",
    "with open(\"tfidf_vectorizer.pkl2\", \"rb\") as f:\n",
    "    vectorizer = pickle.load(f)\n",
    "\n",
    "app = Flask(__name__)\n",
    "CORS(app)  # Allow frontend to access backend\n",
    "\n",
    "@app.route('/predict', methods=['POST'])\n",
    "def predict():\n",
    "    try:\n",
    "        data = request.json  # Get JSON data from frontend\n",
    "        email_text = data.get(\"email\", \"\")  # Extract email text\n",
    "        email_vectorized = vectorizer.transform([email_text])  # Transform input\n",
    "        prediction = model.predict(email_vectorized)[0]  # Get prediction\n",
    "\n",
    "        result = \"Phishing Email\" if prediction == 1 else \"Safe Email\"\n",
    "        return jsonify({\"prediction\": result})  # Send result back to frontend\n",
    "\n",
    "    except Exception as e:\n",
    "        return jsonify({\"error\": str(e)}), 500  # Handle errors\n",
    "\n",
    "if __name__ == '__main__':\n",
    "    app.run(debug=True, port=5000)  # Start backend on port 5000"
   ]
  }
 ],
 "metadata": {
  "kernelspec": {
   "display_name": "base",
   "language": "python",
   "name": "python3"
  },
  "language_info": {
   "codemirror_mode": {
    "name": "ipython",
    "version": 3
   },
   "file_extension": ".py",
   "mimetype": "text/x-python",
   "name": "python",
   "nbconvert_exporter": "python",
   "pygments_lexer": "ipython3",
   "version": "3.12.9"
  }
 },
 "nbformat": 4,
 "nbformat_minor": 2
}
